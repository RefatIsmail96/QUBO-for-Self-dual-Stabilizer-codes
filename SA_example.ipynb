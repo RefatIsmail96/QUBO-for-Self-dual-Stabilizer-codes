{
  "cells": [
    {
      "cell_type": "code",
      "source": [
        "import numpy as np\n",
        "import neal, math, dimod"
      ],
      "metadata": {
        "id": "yrwSbpyg04et"
      },
      "id": "yrwSbpyg04et",
      "execution_count": 3,
      "outputs": []
    },
    {
      "cell_type": "code",
      "execution_count": 4,
      "id": "60e4b762",
      "metadata": {
        "id": "60e4b762"
      },
      "outputs": [],
      "source": [
        "#Code to generate a circulant matrix given the first row\n",
        "def generate_codematrix(row):\n",
        "  n = len(row)\n",
        "  #Create a matrix filled with zeros\n",
        "  circ_matrix = np.zeros((n, n), dtype=row.dtype)\n",
        "  # Fill the matrix using the first row\n",
        "  for i in range(n):\n",
        "      circ_matrix[i, :] = np.roll(row, i)\n",
        "  return circ_matrix"
      ]
    },
    {
      "cell_type": "code",
      "execution_count": 5,
      "id": "0d26fed3",
      "metadata": {
        "id": "0d26fed3"
      },
      "outputs": [],
      "source": [
        "#input code info as (first row of B matrix), known_code_distance_if_available\n",
        "#self-dual code samples from grassl database\n",
        "code_rows=[(np.array([0, 0, 1, 1, 1, 0]),4),\n",
        "          (np.array([0, 0, 0, 1, 1, 0, 0]),3),\n",
        "          (np.array([0, 1, 0, 0, 1, 0, 0, 1 ]),4)]\n",
        "        #(np.array([0, 0, 0, 1, 1, 1, 1, 0, 0 ]),4),\n",
        "         #(np.array([0, 1, 1, 0, 0, 0, 0, 0, 1, 1]),4),\n",
        "          #(np.array([0, 0, 0, 0, 1, 1, 1, 1, 0, 0, 0]),4),\n",
        "          #(np.array([0, 0, 0, 1, 0, 1, 1, 1, 0, 1, 0, 0]),12,6),\n",
        "          #(np.array([0, 0, 1, 1, 1, 0, 1, 1, 0, 1, 1, 1, 0 ]),13,5),\n",
        "          #(np.array([0, 1, 1, 0, 0, 0, 0, 1, 0, 0, 0, 0, 1, 1 ]),14,6),\n",
        "          #(np.array([0, 1, 1, 0, 1, 0, 1, 0, 0, 1, 0, 1, 0, 1, 1]),15,6)]"
      ]
    },
    {
      "cell_type": "code",
      "source": [
        "#generate the full circulant generator matrix\n",
        "code_matrices = [generate_codematrix(x[0]) for x in code_rows]"
      ],
      "metadata": {
        "id": "DpeUwYeZSSaf"
      },
      "id": "DpeUwYeZSSaf",
      "execution_count": 6,
      "outputs": []
    },
    {
      "cell_type": "code",
      "source": [
        "def create_qubo(code_matrix):\n",
        "  B=code_matrix\n",
        "  n=int(len(B));\n",
        "  r= math.ceil(math.log(1+math.floor(np.count_nonzero(B[0])/2))/math.log(2))\n",
        "  d=n+n*r; #number of primary + auxillary variables\n",
        "  I=np.identity(n);\n",
        "  Bsq= np.dot(B,B);\n",
        "  qubo_mat=np.zeros((d,d))\n",
        "\n",
        "  # Fill out primary-variables block\n",
        "  qubo_mat[:n,:n] = I+Bsq-B;\n",
        "\n",
        "  # Fill out first n rows and n columns (cross-terms between primary variables and auxillary variables)\n",
        "  for i in range(1,r+1):\n",
        "    qubo_mat[:n,i*n:(i+1)*n]= 2**(i-1)* (I -2*B)\n",
        "    qubo_mat[i*n:(i+1)*n,:n]= 2**(i-1)* (I -2*B)\n",
        "\n",
        "  #Fill Auxillary variable block:\n",
        "  multiplicative_factor_matrix = np.array([[2**(i + j) for j in range(r)] for i in range(r)]);\n",
        "  qubo_mat[n:,n:] = np.kron(multiplicative_factor_matrix,4*I)\n",
        "\n",
        "  #create dictionary that the sampler uses to represent Binary quadratic models\n",
        "  linear_dict={}\n",
        "  quadratic_dict={}\n",
        "  offset = qubo_mat[0,0] #We set the first variable to 1 to deal with constraint\n",
        "  for i in range(1,d):\n",
        "    linear_dict[i] =  qubo_mat[i,i]  + 2*qubo_mat[0,i] #accounting to contribution from first variable\n",
        "    for j in range(i+1,d):\n",
        "      quadratic_dict[(i,j)] = 2*qubo_mat[i,j] #the 2 accounts for both terms coming from the symmetric matrix M\n",
        "\n",
        "  bqm = dimod.BinaryQuadraticModel(linear_dict,quadratic_dict, offset, dimod.BINARY);\n",
        "  return bqm"
      ],
      "metadata": {
        "id": "246UxgI13UtQ"
      },
      "id": "246UxgI13UtQ",
      "execution_count": 7,
      "outputs": []
    },
    {
      "cell_type": "code",
      "source": [
        "#create the QUBO matrix including the auxillary variables\n",
        "code_qubos = [create_qubo(x) for x in code_matrices]"
      ],
      "metadata": {
        "id": "eccmuy7As3DJ"
      },
      "id": "eccmuy7As3DJ",
      "execution_count": 8,
      "outputs": []
    },
    {
      "cell_type": "code",
      "source": [
        "#Run neal simulated annealer with default settings\n",
        "sampler=neal.SimulatedAnnealingSampler()\n",
        "samples = [sampler.sample(x) for x in code_qubos]\n",
        "\n",
        "#exact solver for code distance for small enough codes\n",
        "#exact_samples = [dimod.ExactSolver().sample(x)for x in code_qubos]\n"
      ],
      "metadata": {
        "id": "J6eh4jmitDRy"
      },
      "id": "J6eh4jmitDRy",
      "execution_count": 9,
      "outputs": []
    },
    {
      "cell_type": "code",
      "source": [
        "for x in samples:\n",
        "  print(\"estimated code distance is:\",x.lowest().first.energy)"
      ],
      "metadata": {
        "colab": {
          "base_uri": "https://localhost:8080/"
        },
        "id": "4NKPIlei1VM9",
        "outputId": "2c719928-0cbe-4af9-a525-05f08a64e378"
      },
      "id": "4NKPIlei1VM9",
      "execution_count": 10,
      "outputs": [
        {
          "output_type": "stream",
          "name": "stdout",
          "text": [
            "estimated code distance is: 4.0\n",
            "estimated code distance is: 3.0\n",
            "estimated code distance is: 4.0\n"
          ]
        }
      ]
    }
  ],
  "metadata": {
    "kernelspec": {
      "display_name": "conda_braket",
      "language": "python",
      "name": "conda_braket"
    },
    "language_info": {
      "codemirror_mode": {
        "name": "ipython",
        "version": 3
      },
      "file_extension": ".py",
      "mimetype": "text/x-python",
      "name": "python",
      "nbconvert_exporter": "python",
      "pygments_lexer": "ipython3",
      "version": "3.7.13"
    },
    "colab": {
      "provenance": []
    }
  },
  "nbformat": 4,
  "nbformat_minor": 5
}
